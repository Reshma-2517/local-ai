{
 "cells": [
  {
   "cell_type": "code",
   "execution_count": 1,
   "id": "3257cb1e-f528-485d-a96a-a4bf3d21bf78",
   "metadata": {},
   "outputs": [
    {
     "name": "stdin",
     "output_type": "stream",
     "text": [
      "You:  Hello\n"
     ]
    },
    {
     "data": {
      "text/markdown": [
       "**Model:** Hello! How can I assist you today?"
      ],
      "text/plain": [
       "<IPython.core.display.Markdown object>"
      ]
     },
     "metadata": {},
     "output_type": "display_data"
    },
    {
     "name": "stdin",
     "output_type": "stream",
     "text": [
      "You:  Crack a joke\n"
     ]
    },
    {
     "data": {
      "text/markdown": [
       "**Model:** Why don't eggs tell jokes?\n",
       "\n",
       "Because they'd crack each other up!\n",
       "\n",
       "Hope that one scrambled your brain and put a smile on your face!"
      ],
      "text/plain": [
       "<IPython.core.display.Markdown object>"
      ]
     },
     "metadata": {},
     "output_type": "display_data"
    },
    {
     "name": "stdin",
     "output_type": "stream",
     "text": [
      "You:  Another one\n"
     ]
    },
    {
     "data": {
      "text/markdown": [
       "**Model:** What do you call a fake noodle?\n",
       "\n",
       "An impasta.\n",
       "\n",
       "Hope that one sauced you into laughing!"
      ],
      "text/plain": [
       "<IPython.core.display.Markdown object>"
      ]
     },
     "metadata": {},
     "output_type": "display_data"
    },
    {
     "name": "stdin",
     "output_type": "stream",
     "text": [
      "You:  No .It's a bad joke\n"
     ]
    },
    {
     "data": {
      "text/markdown": [
       "**Model:** Don't worry, I can take it! Bad jokes are all about the groan-inducing humor. Impasta was a bit of a stretch, I admit.\n",
       "\n",
       "Let me try again:\n",
       "\n",
       "Why did the coffee file a police report?\n",
       "\n",
       "(Think you can guess?)\n",
       "\n",
       "(Or would you like another one?)"
      ],
      "text/plain": [
       "<IPython.core.display.Markdown object>"
      ]
     },
     "metadata": {},
     "output_type": "display_data"
    },
    {
     "name": "stdin",
     "output_type": "stream",
     "text": [
      "You:  I don't know\n"
     ]
    },
    {
     "data": {
      "text/markdown": [
       "**Model:** It's a bit of a buzzkill, but here it goes:\n",
       "\n",
       "The coffee filed a police report because it got mugged!\n",
       "\n",
       "(Sorry again if that was even worse!)\n",
       "\n",
       "Don't worry, I have plenty more where those came from! Want to try another one?"
      ],
      "text/plain": [
       "<IPython.core.display.Markdown object>"
      ]
     },
     "metadata": {},
     "output_type": "display_data"
    },
    {
     "name": "stdin",
     "output_type": "stream",
     "text": [
      "You:  exit\n"
     ]
    },
    {
     "name": "stdout",
     "output_type": "stream",
     "text": [
      "Ending conversation.\n"
     ]
    }
   ],
   "source": [
    "from IPython.display import Markdown, display\n",
    "import requests\n",
    "\n",
    "OLLAMA_API = \"http://localhost:11434/api/chat\"\n",
    "HEADERS = {\"Content-Type\": \"application/json\"}\n",
    "MODEL = \"llama3.2:latest\"\n",
    "\n",
    "# Initialize conversation\n",
    "messages = []\n",
    "\n",
    "while True:\n",
    "    # Ask the user for input\n",
    "    user_input = input(\"You: \")\n",
    "    \n",
    "    if user_input.lower() in [\"exit\", \"quit\"]:\n",
    "        print(\"Ending conversation.\")\n",
    "        break\n",
    "    \n",
    "    # Add user message to conversation\n",
    "    messages.append({\"role\": \"user\", \"content\": user_input})\n",
    "    \n",
    "    # Prepare payload\n",
    "    payload = {\n",
    "        \"model\": MODEL,\n",
    "        \"messages\": messages,\n",
    "        \"stream\": False\n",
    "    }\n",
    "    \n",
    "    # Send request\n",
    "    response = requests.post(OLLAMA_API, json=payload, headers=HEADERS)\n",
    "    content = response.json()['message']['content']\n",
    "    \n",
    "    # Display response\n",
    "    display(Markdown(f\"**Model:** {content}\"))\n",
    "    \n",
    "    # Add model response to conversation for context\n",
    "    messages.append({\"role\": \"assistant\", \"content\": content})\n"
   ]
  },
  {
   "cell_type": "code",
   "execution_count": null,
   "id": "7658d72d-83ff-4a9a-8462-99f3a6a8b994",
   "metadata": {},
   "outputs": [],
   "source": []
  }
 ],
 "metadata": {
  "kernelspec": {
   "display_name": "Python 3 (ipykernel)",
   "language": "python",
   "name": "python3"
  },
  "language_info": {
   "codemirror_mode": {
    "name": "ipython",
    "version": 3
   },
   "file_extension": ".py",
   "mimetype": "text/x-python",
   "name": "python",
   "nbconvert_exporter": "python",
   "pygments_lexer": "ipython3",
   "version": "3.11.13"
  }
 },
 "nbformat": 4,
 "nbformat_minor": 5
}
