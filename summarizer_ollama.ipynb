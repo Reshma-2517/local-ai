{
 "cells": [
  {
   "cell_type": "code",
   "execution_count": 21,
   "id": "9bbfbbe0-569b-4d93-9524-df1e26483273",
   "metadata": {},
   "outputs": [],
   "source": [
    "\n",
    "import requests\n",
    "from IPython.display import Markdown, display"
   ]
  },
  {
   "cell_type": "code",
   "execution_count": 22,
   "id": "56e760f1-093a-4143-af91-d4ef9605b391",
   "metadata": {},
   "outputs": [],
   "source": [
    "OLLAMA_API = \"http://localhost:11434/api/chat\"\n",
    "HEADERS = {\"Content-Type\":\"application/json\"}\n",
    "MODEL = \"llama3.2:latest\""
   ]
  },
  {
   "cell_type": "code",
   "execution_count": 25,
   "id": "bec8acde-6c98-46e9-a427-54695b9a99b0",
   "metadata": {},
   "outputs": [],
   "source": [
    "messages = [{\"role\":\"user\",\"content\":\"Crack a joke\"}]"
   ]
  },
  {
   "cell_type": "code",
   "execution_count": 26,
   "id": "41cbe8ba-1a74-4238-bd9c-3cf9a8fe2348",
   "metadata": {},
   "outputs": [],
   "source": [
    "payload = {\n",
    "    \"model\" : MODEL,\n",
    "    \"messages\" : messages,\n",
    "    \"stream\" : False\n",
    "}"
   ]
  },
  {
   "cell_type": "code",
   "execution_count": 27,
   "id": "5a4586b8-4a65-4a26-b130-d592fd3565d1",
   "metadata": {},
   "outputs": [
    {
     "data": {
      "text/markdown": [
       "Why couldn't the bicycle stand up by itself?\n",
       "\n",
       "Because it was two-tired! (get it?)"
      ],
      "text/plain": [
       "<IPython.core.display.Markdown object>"
      ]
     },
     "metadata": {},
     "output_type": "display_data"
    }
   ],
   "source": [
    "response = requests.post(OLLAMA_API,json=payload,headers = HEADERS)\n",
    "display(Markdown(response.json()['message']['content']))"
   ]
  },
  {
   "cell_type": "code",
   "execution_count": null,
   "id": "1eb5928d-04a8-4398-83de-d4b15d263990",
   "metadata": {},
   "outputs": [],
   "source": []
  }
 ],
 "metadata": {
  "kernelspec": {
   "display_name": "Python 3 (ipykernel)",
   "language": "python",
   "name": "python3"
  },
  "language_info": {
   "codemirror_mode": {
    "name": "ipython",
    "version": 3
   },
   "file_extension": ".py",
   "mimetype": "text/x-python",
   "name": "python",
   "nbconvert_exporter": "python",
   "pygments_lexer": "ipython3",
   "version": "3.11.13"
  }
 },
 "nbformat": 4,
 "nbformat_minor": 5
}
