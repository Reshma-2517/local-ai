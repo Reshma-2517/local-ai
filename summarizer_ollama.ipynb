{
 "cells": [
  {
   "cell_type": "code",
   "execution_count": 2,
   "id": "9bbfbbe0-569b-4d93-9524-df1e26483273",
   "metadata": {},
   "outputs": [],
   "source": [
    "from bs4 import BeautifulSoup\n",
    "import requests\n",
    "from IPython.display import Markdown, display"
   ]
  },
  {
   "cell_type": "code",
   "execution_count": 3,
   "id": "56e760f1-093a-4143-af91-d4ef9605b391",
   "metadata": {},
   "outputs": [],
   "source": [
    "OLLAMA_API = \"http://localhost:11434/api/chat\"\n",
    "HEADERS = {\"Content-Type\":\"application/json\"}\n",
    "MODEL = \"llama3.2:latest\""
   ]
  },
  {
   "cell_type": "code",
   "execution_count": 18,
   "id": "bec8acde-6c98-46e9-a427-54695b9a99b0",
   "metadata": {},
   "outputs": [],
   "source": [
    "messages = [{\"role\":\"user\",\"content\":\"How to build a laptop\"}]"
   ]
  },
  {
   "cell_type": "code",
   "execution_count": 19,
   "id": "41cbe8ba-1a74-4238-bd9c-3cf9a8fe2348",
   "metadata": {},
   "outputs": [],
   "source": [
    "payload = {\n",
    "    \"model\" : MODEL,\n",
    "    \"messages\" : messages,\n",
    "    \"stream\" : False\n",
    "}"
   ]
  },
  {
   "cell_type": "code",
   "execution_count": 20,
   "id": "5c87154c-c25f-434e-95b4-12f32307432d",
   "metadata": {},
   "outputs": [
    {
     "data": {
      "text/markdown": [
       "Building a laptop can be a complex and challenging task, requiring specialized tools and knowledge. However, with the right guidance, it's possible to assemble a functional laptop. Here's a step-by-step guide to help you get started:\n",
       "\n",
       "**Components needed:**\n",
       "\n",
       "1. CPU (Central Processing Unit)\n",
       "2. Motherboard\n",
       "3. RAM (Memory)\n",
       "4. Storage Drive (Hard Drive or Solid State Drive)\n",
       "5. Graphics Card\n",
       "6. Display Panel\n",
       "7. Keyboard and Touchpad\n",
       "8. Power Supply\n",
       "9. Cooling System (Fans, Heat Sink, etc.)\n",
       "10. Battery\n",
       "11. Operating System (Windows, Linux, macOS, etc.)\n",
       "\n",
       "**Tools needed:**\n",
       "\n",
       "1. Soldering iron and solder\n",
       "2. Torx screwdriver set\n",
       "3. Phillips screwdriver set\n",
       "4. Pliers and wrenches\n",
       "5. Thermal paste and thermal tape\n",
       "6. Cable ties and cable management clips\n",
       "\n",
       "**Step 1: Prepare the workspace and tools**\n",
       "\n",
       "1. Clear a flat surface to work on, with anti-static protection (e.g., an antistatic mat or a wrist strap).\n",
       "2. Gather all necessary components and tools.\n",
       "3. Make sure you have a well-ventilated workspace.\n",
       "\n",
       "**Step 2: Unpack and prepare the CPU and motherboard**\n",
       "\n",
       "1. Carefully remove the CPU from its packaging and apply thermal paste to the die (the top surface of the CPU).\n",
       "2. Install the CPU onto the socket on the motherboard, following the manufacturer's instructions.\n",
       "3. Secure the CPU with the mounting bracket and screws.\n",
       "\n",
       "**Step 3: Assemble the RAM and storage**\n",
       "\n",
       "1. Identify the RAM slots on the motherboard and insert the RAM modules at an angle to secure them in place.\n",
       "2. Install the storage drive (HDD or SSD) into the designated slot, connecting any necessary cables.\n",
       "\n",
       "**Step 4: Connect the power supply and cooling system**\n",
       "\n",
       "1. Connect the power supply to the motherboard and other components.\n",
       "2. Install fans and heat sinks as needed, ensuring proper airflow and cooling.\n",
       "\n",
       "**Step 5: Install the display panel and keyboard/touchpad**\n",
       "\n",
       "1. Mount the display panel onto the laptop frame using screws or adhesive.\n",
       "2. Install the keyboard and touchpad, connecting any necessary cables.\n",
       "\n",
       "**Step 6: Connect the graphics card (if applicable)**\n",
       "\n",
       "1. If your laptop has a dedicated graphics card, install it into its designated slot on the motherboard.\n",
       "2. Connect any necessary power cables to the graphics card.\n",
       "\n",
       "**Step 7: Install the battery**\n",
       "\n",
       "1. Mount the battery onto the laptop frame using screws or adhesive.\n",
       "2. Ensure proper electrical connections and secure the battery in place.\n",
       "\n",
       "**Step 8: Assemble the chassis and connect all cables**\n",
       "\n",
       "1. Mount the motherboard, RAM, storage drive, power supply, fans, and heat sinks to their designated slots.\n",
       "2. Connect all necessary cables (power, data, audio, etc.) between components.\n",
       "\n",
       "**Step 9: Install the operating system and drivers**\n",
       "\n",
       "1. Insert the laptop's bootable USB drive or CD/DVD into a computer.\n",
       "2. Follow the installation instructions to install the chosen operating system.\n",
       "3. Install drivers for all hardware components.\n",
       "\n",
       "**Step 10: Test the laptop**\n",
       "\n",
       "1. Power on the laptop and test all functions, including the keyboard, display, and audio.\n",
       "2. Run stress tests and benchmarking tools to ensure proper performance.\n",
       "\n",
       "Please note that building a laptop requires advanced technical expertise and can be hazardous if not done correctly. If you're new to DIY electronics or laptops, it's recommended to seek guidance from an experienced professional or online tutorials.\n",
       "\n",
       "**Additional considerations:**\n",
       "\n",
       "* Ensure proper ventilation and cooling systems are in place.\n",
       "* Use high-quality components to prevent overheating and ensure reliability.\n",
       "* Follow proper safety procedures when handling electrical components and tools.\n",
       "* Research local laws and regulations regarding laptop modifications.\n",
       "\n",
       "This guide provides a general overview of the process, but there may be specific steps or considerations that vary depending on your chosen components and design. Always consult documentation and manufacturer guidelines for specific instructions and precautions."
      ],
      "text/plain": [
       "<IPython.core.display.Markdown object>"
      ]
     },
     "metadata": {},
     "output_type": "display_data"
    }
   ],
   "source": [
    "response = requests.post(OLLAMA_API,json=payload,headers = HEADERS)\n",
    "display(Markdown(response.json()['message']['content']))"
   ]
  },
  {
   "cell_type": "code",
   "execution_count": null,
   "id": "5a4586b8-4a65-4a26-b130-d592fd3565d1",
   "metadata": {},
   "outputs": [],
   "source": []
  }
 ],
 "metadata": {
  "kernelspec": {
   "display_name": "Python 3 (ipykernel)",
   "language": "python",
   "name": "python3"
  },
  "language_info": {
   "codemirror_mode": {
    "name": "ipython",
    "version": 3
   },
   "file_extension": ".py",
   "mimetype": "text/x-python",
   "name": "python",
   "nbconvert_exporter": "python",
   "pygments_lexer": "ipython3",
   "version": "3.11.13"
  }
 },
 "nbformat": 4,
 "nbformat_minor": 5
}
